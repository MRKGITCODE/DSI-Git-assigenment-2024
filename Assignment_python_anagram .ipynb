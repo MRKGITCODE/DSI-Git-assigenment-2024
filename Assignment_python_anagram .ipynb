{
 "cells": [
  {
   "cell_type": "markdown",
   "id": "c38964f3",
   "metadata": {},
   "source": [
    "## ASSIGNMENT  Building the base Anagram Checker"
   ]
  },
  {
   "cell_type": "markdown",
   "id": "92e03012",
   "metadata": {},
   "source": [
    "##### Lowercase Conversion: The function converts both input strings to lowercase to ignore case sensitivity.Sorting: The function sorts the characters in both words and compares the sorted versions. If they are identical, the words are anagrams."
   ]
  },
  {
   "cell_type": "code",
   "execution_count": 9,
   "id": "b0620afe",
   "metadata": {},
   "outputs": [
    {
     "data": {
      "text/plain": [
       "True"
      ]
     },
     "execution_count": 9,
     "metadata": {},
     "output_type": "execute_result"
    }
   ],
   "source": [
    "def anagrams_checker( word_a, word_b) : \n",
    "    if sorted(word_a.lower()) == sorted(word_b.lower()):\n",
    "        return True\n",
    "    else:\n",
    "        return False\n",
    "anagrams_checker('silent','listen')"
   ]
  },
  {
   "cell_type": "code",
   "execution_count": 10,
   "id": "fa387246",
   "metadata": {},
   "outputs": [
    {
     "name": "stdout",
     "output_type": "stream",
     "text": [
      "False\n"
     ]
    }
   ],
   "source": [
    "def anagrams_checker(string1, string2):\n",
    "    if sorted(string1.lower()) == sorted(string2.lower()) and string1.lower() != string2.lower():\n",
    "        return True\n",
    "    else:\n",
    "        return False\n",
    "\n",
    "result = anagrams_checker('silent', 'Night')\n",
    "print(result)"
   ]
  },
  {
   "cell_type": "code",
   "execution_count": 11,
   "id": "b4ff30d6",
   "metadata": {},
   "outputs": [
    {
     "name": "stdout",
     "output_type": "stream",
     "text": [
      "False\n",
      "True\n"
     ]
    }
   ],
   "source": [
    "from collections import Counter\n",
    "\n",
    "def anagrams_checker(word_a, word_b):\n",
    "    ls1, ls2 = word_a.lower(), word_b.lower()\n",
    "    return ls1 != ls2 and Counter(ls1) == Counter(ls2)\n",
    "\n",
    "print(anagrams_checker('silent', 'Night'))\n",
    "print(anagrams_checker('Night', 'Thing'))"
   ]
  },
  {
   "cell_type": "code",
   "execution_count": null,
   "id": "1085c1ac",
   "metadata": {},
   "outputs": [],
   "source": []
  }
 ],
 "metadata": {
  "kernelspec": {
   "display_name": "Python 3 (ipykernel)",
   "language": "python",
   "name": "python3"
  },
  "language_info": {
   "codemirror_mode": {
    "name": "ipython",
    "version": 3
   },
   "file_extension": ".py",
   "mimetype": "text/x-python",
   "name": "python",
   "nbconvert_exporter": "python",
   "pygments_lexer": "ipython3",
   "version": "3.11.5"
  }
 },
 "nbformat": 4,
 "nbformat_minor": 5
}
